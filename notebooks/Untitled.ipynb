{
 "cells": [
  {
   "cell_type": "code",
   "execution_count": 1,
   "id": "25caaf3c",
   "metadata": {},
   "outputs": [],
   "source": [
    "import cv2\n",
    "import os\n",
    "import matplotlib.pyplot as plt\n",
    "import numpy as np\n",
    "import imutils\n",
    "from tqdm import tqdm"
   ]
  },
  {
   "cell_type": "code",
   "execution_count": 2,
   "id": "71d619d6",
   "metadata": {},
   "outputs": [],
   "source": [
    "pics_root_path = '/Users/imrankabir/Desktop/research/bengali_ocr_app/bengali_ocr/data/'\n",
    "pics_source_path = os.path.join(pics_root_path, 'acceptedImage')\n",
    "image_dest_path = os.path.join(pics_root_path, 'cropped_image')\n",
    "\n",
    "if not os.path.exists(image_dest_path):\n",
    "    os.makedirs(image_dest_path)"
   ]
  },
  {
   "cell_type": "code",
   "execution_count": 3,
   "id": "7110e2be",
   "metadata": {},
   "outputs": [
    {
     "name": "stderr",
     "output_type": "stream",
     "text": [
      "100%|██████████████████████████████████████████████████████████████████████████████████████████████████████████████████████████████████████████████████████████████████████████| 10909/10909 [00:35<00:00, 303.85it/s]\n"
     ]
    }
   ],
   "source": [
    "image_names = os.listdir(pics_source_path)\n",
    "for img_name in tqdm(image_names):\n",
    "    # img_name = 'খীং.png'\n",
    "    if not '.png' in img_name:\n",
    "        continue\n",
    "    img_path = os.path.join(pics_source_path, img_name)\n",
    "    img = cv2.imread(img_path, cv2.IMREAD_GRAYSCALE)\n",
    "    \n",
    "    img = cv2.threshold(img, 45, 255, cv2.THRESH_BINARY)[1]\n",
    "    inv_img = cv2.bitwise_not(img)\n",
    "    im_blr = cv2.blur(inv_img, (40, 40))\n",
    "    im_blr = cv2.GaussianBlur(im_blr, (5, 5), 0)\n",
    "      \n",
    "    thresh = cv2.threshold(im_blr, 45, 255, cv2.THRESH_BINARY)[1]\n",
    "    thresh = cv2.erode(thresh, None, iterations=2)\n",
    "    thresh = cv2.dilate(thresh, None, iterations=2)\n",
    "    \n",
    "    cnts = cv2.findContours(image=thresh, mode=cv2.RETR_EXTERNAL, \n",
    "                                           method=cv2.CHAIN_APPROX_SIMPLE)\n",
    "    contours = cnts[0]\n",
    "    cnts = imutils.grab_contours(cnts)\n",
    "    c = max(cnts, key=cv2.contourArea)\n",
    "    \n",
    "    extLeft = tuple(c[c[:, :, 0].argmin()][0])\n",
    "    extRight = tuple(c[c[:, :, 0].argmax()][0])\n",
    "    extTop = tuple(c[c[:, :, 1].argmin()][0])\n",
    "    extBot = tuple(c[c[:, :, 1].argmax()][0])\n",
    "    \n",
    "    square_left_top = (extLeft[0], extTop[1])\n",
    "    square_right_bot = (extRight[0], extBot[1])\n",
    "    \n",
    "    inv_img = inv_img[square_left_top[1]:square_right_bot[1], square_left_top[0]:square_right_bot[0]]\n",
    "    \n",
    "    cont_img = np.zeros(img.shape)\n",
    "    cv2.drawContours(image=cont_img, contours=contours, \n",
    "                     contourIdx=-1, color=(255, 255, 255), thickness=2, \n",
    "                     lineType=cv2.LINE_AA)\n",
    "    \n",
    "    out_img = np.zeros((max(inv_img.shape), max(inv_img.shape)))\n",
    "    \n",
    "    if inv_img.shape[0] == out_img.shape[0]:\n",
    "        devi = out_img.shape[1] - inv_img.shape[1]\n",
    "        out_img[0:, devi//2:(out_img.shape[1]-(devi - devi//2))] = inv_img     \n",
    "    elif inv_img.shape[1] == out_img.shape[1]:\n",
    "        devi = out_img.shape[0] - inv_img.shape[0]\n",
    "        out_img[devi//2:(out_img.shape[1]-(devi - devi//2)), 0:] = inv_img \n",
    "        \n",
    "    out_img = cv2.resize(out_img, (224, 224), interpolation = cv2.INTER_AREA)\n",
    "    out_img = cv2.threshold(out_img, 45, 255, cv2.THRESH_BINARY)[1]\n",
    "    # print(np.unique(out_img))\n",
    "    out_img = 255 - out_img\n",
    "    \n",
    "    save_pic_path = os.path.join(image_dest_path, img_name)\n",
    "    cv2.imwrite(save_pic_path, out_img)\n",
    "    # print(np.unique(out_img))\n",
    "    # break\n",
    "    \n",
    "# plt.imshow(out_img)"
   ]
  },
  {
   "cell_type": "code",
   "execution_count": null,
   "id": "299aa691",
   "metadata": {},
   "outputs": [],
   "source": []
  },
  {
   "cell_type": "code",
   "execution_count": null,
   "id": "d5f37844",
   "metadata": {},
   "outputs": [],
   "source": []
  }
 ],
 "metadata": {
  "kernelspec": {
   "display_name": "Python 3 (ipykernel)",
   "language": "python",
   "name": "python3"
  },
  "language_info": {
   "codemirror_mode": {
    "name": "ipython",
    "version": 3
   },
   "file_extension": ".py",
   "mimetype": "text/x-python",
   "name": "python",
   "nbconvert_exporter": "python",
   "pygments_lexer": "ipython3",
   "version": "3.8.12"
  }
 },
 "nbformat": 4,
 "nbformat_minor": 5
}
